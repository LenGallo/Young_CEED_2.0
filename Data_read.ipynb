{
 "cells": [
  {
   "cell_type": "markdown",
   "id": "99a0645a-723a-4ff5-af91-22dacff75423",
   "metadata": {},
   "source": [
    "## Data Reading\n",
    "\n",
    "First, we are just going to read the information of the paleamagnetic poles. This notebook creates proccessed versions of the PP and VGPs data in a python-friendly format. "
   ]
  },
  {
   "cell_type": "code",
   "execution_count": 1,
   "id": "240adbee-14a7-4e76-b246-ac827ceae62a",
   "metadata": {},
   "outputs": [],
   "source": [
    "import numpy as np\n",
    "import pandas as pd\n",
    "import matplotlib.pyplot as plt\n",
    "import os\n",
    "\n",
    "from scripts.auxiliar import get_files_in_directory, spherical2cartesian"
   ]
  },
  {
   "cell_type": "markdown",
   "id": "17268a2f-6a66-407d-8b71-428857830bdc",
   "metadata": {},
   "source": [
    "We first define the current path we are currently working on and define the directories of the data files with respect to it. "
   ]
  },
  {
   "cell_type": "code",
   "execution_count": 2,
   "id": "1a24c387-b761-49a5-babe-593a17b4ff02",
   "metadata": {},
   "outputs": [],
   "source": [
    "current_path = os.getcwd() \n",
    "data_path_PP = current_path + \"/data/poles_NAM\"\n",
    "file_name = \"/NAM_poles_0_130_Myr.xlsx\""
   ]
  },
  {
   "cell_type": "code",
   "execution_count": 3,
   "id": "f0ded6f5-1029-4bf9-a5f9-b78ed1152b5c",
   "metadata": {},
   "outputs": [
    {
     "data": {
      "text/html": [
       "<div>\n",
       "<style scoped>\n",
       "    .dataframe tbody tr th:only-of-type {\n",
       "        vertical-align: middle;\n",
       "    }\n",
       "\n",
       "    .dataframe tbody tr th {\n",
       "        vertical-align: top;\n",
       "    }\n",
       "\n",
       "    .dataframe thead th {\n",
       "        text-align: right;\n",
       "    }\n",
       "</style>\n",
       "<table border=\"1\" class=\"dataframe\">\n",
       "  <thead>\n",
       "    <tr style=\"text-align: right;\">\n",
       "      <th></th>\n",
       "      <th>name</th>\n",
       "      <th>min_age</th>\n",
       "      <th>max_age</th>\n",
       "      <th>age</th>\n",
       "      <th>slat</th>\n",
       "      <th>slon</th>\n",
       "      <th>N</th>\n",
       "      <th>k</th>\n",
       "      <th>alpha95</th>\n",
       "      <th>dp</th>\n",
       "      <th>...</th>\n",
       "      <th>lithology</th>\n",
       "      <th>Rlat</th>\n",
       "      <th>Rlon</th>\n",
       "      <th>Euler_lat</th>\n",
       "      <th>Euler_lon</th>\n",
       "      <th>Euler_ang</th>\n",
       "      <th>author</th>\n",
       "      <th>Q</th>\n",
       "      <th>reliability</th>\n",
       "      <th>age constraints</th>\n",
       "    </tr>\n",
       "  </thead>\n",
       "  <tbody>\n",
       "    <tr>\n",
       "      <th>0</th>\n",
       "      <td>USGS SW North America composite</td>\n",
       "      <td>0.0</td>\n",
       "      <td>1.0</td>\n",
       "      <td>0.5</td>\n",
       "      <td>36.30</td>\n",
       "      <td>242.13</td>\n",
       "      <td>38</td>\n",
       "      <td>24.7</td>\n",
       "      <td>4.8</td>\n",
       "      <td>NaN</td>\n",
       "      <td>...</td>\n",
       "      <td>volcanic</td>\n",
       "      <td>-86.3</td>\n",
       "      <td>5.7</td>\n",
       "      <td>0.0</td>\n",
       "      <td>0.0</td>\n",
       "      <td>0.0</td>\n",
       "      <td>Mankinen (2008)</td>\n",
       "      <td>5</td>\n",
       "      <td>NaN</td>\n",
       "      <td>Brunhes normal chron</td>\n",
       "    </tr>\n",
       "    <tr>\n",
       "      <th>1</th>\n",
       "      <td>Michoacan Guanajuato volcanic ﬁeld</td>\n",
       "      <td>0.0</td>\n",
       "      <td>0.6</td>\n",
       "      <td>0.3</td>\n",
       "      <td>19.25</td>\n",
       "      <td>257.67</td>\n",
       "      <td>8</td>\n",
       "      <td>29.0</td>\n",
       "      <td>9.1</td>\n",
       "      <td>8.5</td>\n",
       "      <td>...</td>\n",
       "      <td>volcanic</td>\n",
       "      <td>-86.4</td>\n",
       "      <td>9.2</td>\n",
       "      <td>79.2</td>\n",
       "      <td>23.0</td>\n",
       "      <td>0.2</td>\n",
       "      <td>Maciel Peña et al. (2009)</td>\n",
       "      <td>5</td>\n",
       "      <td>NaN</td>\n",
       "      <td>Ar-Ar ages of 82 to 612 ka (from another study)</td>\n",
       "    </tr>\n",
       "    <tr>\n",
       "      <th>2</th>\n",
       "      <td>Tequila volcanic ﬁelds</td>\n",
       "      <td>0.1</td>\n",
       "      <td>1.1</td>\n",
       "      <td>0.6</td>\n",
       "      <td>20.46</td>\n",
       "      <td>256.76</td>\n",
       "      <td>17</td>\n",
       "      <td>26.0</td>\n",
       "      <td>7.1</td>\n",
       "      <td>6.9</td>\n",
       "      <td>...</td>\n",
       "      <td>volcanic</td>\n",
       "      <td>-85.3</td>\n",
       "      <td>-94.1</td>\n",
       "      <td>79.9</td>\n",
       "      <td>22.7</td>\n",
       "      <td>0.3</td>\n",
       "      <td>Ceja et al. (2006)</td>\n",
       "      <td>5</td>\n",
       "      <td>NaN</td>\n",
       "      <td>Ar/Ar ages of 0.115 to 1.13 Ma (from another s...</td>\n",
       "    </tr>\n",
       "    <tr>\n",
       "      <th>3</th>\n",
       "      <td>Trans Mexican Volcanic Belt</td>\n",
       "      <td>0.0</td>\n",
       "      <td>2.0</td>\n",
       "      <td>1.0</td>\n",
       "      <td>19.40</td>\n",
       "      <td>260.10</td>\n",
       "      <td>24</td>\n",
       "      <td>47.3</td>\n",
       "      <td>4.3</td>\n",
       "      <td>3.5</td>\n",
       "      <td>...</td>\n",
       "      <td>volcanic</td>\n",
       "      <td>-88.9</td>\n",
       "      <td>-75.1</td>\n",
       "      <td>79.9</td>\n",
       "      <td>22.7</td>\n",
       "      <td>0.3</td>\n",
       "      <td>Ruiz-Martínez et al. (2010)</td>\n",
       "      <td>5</td>\n",
       "      <td>NaN</td>\n",
       "      <td>all Quaternary rocks (some K-Ar dated)</td>\n",
       "    </tr>\n",
       "    <tr>\n",
       "      <th>4</th>\n",
       "      <td>Katherine Creek sediments</td>\n",
       "      <td>0.0</td>\n",
       "      <td>3.0</td>\n",
       "      <td>1.5</td>\n",
       "      <td>65.00</td>\n",
       "      <td>232.40</td>\n",
       "      <td>100</td>\n",
       "      <td>9.1</td>\n",
       "      <td>4.9</td>\n",
       "      <td>7.9</td>\n",
       "      <td>...</td>\n",
       "      <td>clastics</td>\n",
       "      <td>-80.0</td>\n",
       "      <td>4.2</td>\n",
       "      <td>80.8</td>\n",
       "      <td>22.8</td>\n",
       "      <td>0.4</td>\n",
       "      <td>Barendregt et al. (1996)</td>\n",
       "      <td>3</td>\n",
       "      <td>NaN</td>\n",
       "      <td>magnetostratigraphy</td>\n",
       "    </tr>\n",
       "    <tr>\n",
       "      <th>...</th>\n",
       "      <td>...</td>\n",
       "      <td>...</td>\n",
       "      <td>...</td>\n",
       "      <td>...</td>\n",
       "      <td>...</td>\n",
       "      <td>...</td>\n",
       "      <td>...</td>\n",
       "      <td>...</td>\n",
       "      <td>...</td>\n",
       "      <td>...</td>\n",
       "      <td>...</td>\n",
       "      <td>...</td>\n",
       "      <td>...</td>\n",
       "      <td>...</td>\n",
       "      <td>...</td>\n",
       "      <td>...</td>\n",
       "      <td>...</td>\n",
       "      <td>...</td>\n",
       "      <td>...</td>\n",
       "      <td>...</td>\n",
       "      <td>...</td>\n",
       "    </tr>\n",
       "    <tr>\n",
       "      <th>60</th>\n",
       "      <td>Tatnic Complex</td>\n",
       "      <td>120.0</td>\n",
       "      <td>124.0</td>\n",
       "      <td>122.0</td>\n",
       "      <td>43.30</td>\n",
       "      <td>289.30</td>\n",
       "      <td>10</td>\n",
       "      <td>113.0</td>\n",
       "      <td>4.6</td>\n",
       "      <td>NaN</td>\n",
       "      <td>...</td>\n",
       "      <td>plutonic</td>\n",
       "      <td>-44.4</td>\n",
       "      <td>86.2</td>\n",
       "      <td>65.7</td>\n",
       "      <td>-19.8</td>\n",
       "      <td>55.3</td>\n",
       "      <td>McEnroe (1996b)</td>\n",
       "      <td>5</td>\n",
       "      <td>high-T CHRM, exsolution lamellae and fine reac...</td>\n",
       "      <td>122±2; K-Ar on biotite in gabbro, Ar-Ar on bio...</td>\n",
       "    </tr>\n",
       "    <tr>\n",
       "      <th>61</th>\n",
       "      <td>Monteregian Hills intrusives</td>\n",
       "      <td>117.0</td>\n",
       "      <td>127.0</td>\n",
       "      <td>122.0</td>\n",
       "      <td>45.30</td>\n",
       "      <td>286.80</td>\n",
       "      <td>70</td>\n",
       "      <td>49.2</td>\n",
       "      <td>2.4</td>\n",
       "      <td>2.8</td>\n",
       "      <td>...</td>\n",
       "      <td>plutonic</td>\n",
       "      <td>-51.7</td>\n",
       "      <td>79.7</td>\n",
       "      <td>65.7</td>\n",
       "      <td>-19.8</td>\n",
       "      <td>55.3</td>\n",
       "      <td>Foster and Symons (1979)</td>\n",
       "      <td>6</td>\n",
       "      <td>NaN</td>\n",
       "      <td>118±4 Ma Rb-Sr; 123±4 K-Ar</td>\n",
       "    </tr>\n",
       "    <tr>\n",
       "      <th>62</th>\n",
       "      <td>White Mountains igneous complex</td>\n",
       "      <td>119.0</td>\n",
       "      <td>126.0</td>\n",
       "      <td>122.5</td>\n",
       "      <td>43.50</td>\n",
       "      <td>288.30</td>\n",
       "      <td>8</td>\n",
       "      <td>274.9</td>\n",
       "      <td>3.3</td>\n",
       "      <td>4.2</td>\n",
       "      <td>...</td>\n",
       "      <td>plutonic</td>\n",
       "      <td>-51.5</td>\n",
       "      <td>77.6</td>\n",
       "      <td>65.7</td>\n",
       "      <td>-19.8</td>\n",
       "      <td>55.3</td>\n",
       "      <td>Van Fossen and Kent (1992)</td>\n",
       "      <td>5</td>\n",
       "      <td>NaN</td>\n",
       "      <td>Ar/Ar age of 122.5±3.5</td>\n",
       "    </tr>\n",
       "    <tr>\n",
       "      <th>63</th>\n",
       "      <td>Lebanon diorite</td>\n",
       "      <td>122.0</td>\n",
       "      <td>128.0</td>\n",
       "      <td>125.0</td>\n",
       "      <td>43.40</td>\n",
       "      <td>289.20</td>\n",
       "      <td>5</td>\n",
       "      <td>113.0</td>\n",
       "      <td>7.5</td>\n",
       "      <td>NaN</td>\n",
       "      <td>...</td>\n",
       "      <td>plutonic</td>\n",
       "      <td>-49.4</td>\n",
       "      <td>83.7</td>\n",
       "      <td>65.4</td>\n",
       "      <td>-18.9</td>\n",
       "      <td>56.8</td>\n",
       "      <td>McEnroe (1996b)</td>\n",
       "      <td>5</td>\n",
       "      <td>high-T CHRM, exsolution lamellae and fine reac...</td>\n",
       "      <td>125±3 Ma K-Ar on biotite. They discarded disco...</td>\n",
       "    </tr>\n",
       "    <tr>\n",
       "      <th>64</th>\n",
       "      <td>Notre Dame Bay dikes</td>\n",
       "      <td>122.0</td>\n",
       "      <td>136.0</td>\n",
       "      <td>129.0</td>\n",
       "      <td>49.50</td>\n",
       "      <td>304.60</td>\n",
       "      <td>10</td>\n",
       "      <td>180.0</td>\n",
       "      <td>3.6</td>\n",
       "      <td>NaN</td>\n",
       "      <td>...</td>\n",
       "      <td>dykes</td>\n",
       "      <td>-43.6</td>\n",
       "      <td>91.6</td>\n",
       "      <td>64.9</td>\n",
       "      <td>-17.7</td>\n",
       "      <td>58.7</td>\n",
       "      <td>Lapointe (1979)</td>\n",
       "      <td>5</td>\n",
       "      <td>stepwise demag, good structural control</td>\n",
       "      <td>K-Ar of  ?</td>\n",
       "    </tr>\n",
       "  </tbody>\n",
       "</table>\n",
       "<p>65 rows × 26 columns</p>\n",
       "</div>"
      ],
      "text/plain": [
       "                                  name  min_age  max_age    age   slat  \\\n",
       "0      USGS SW North America composite      0.0      1.0    0.5  36.30   \n",
       "1   Michoacan Guanajuato volcanic ﬁeld      0.0      0.6    0.3  19.25   \n",
       "2               Tequila volcanic ﬁelds      0.1      1.1    0.6  20.46   \n",
       "3          Trans Mexican Volcanic Belt      0.0      2.0    1.0  19.40   \n",
       "4            Katherine Creek sediments      0.0      3.0    1.5  65.00   \n",
       "..                                 ...      ...      ...    ...    ...   \n",
       "60                      Tatnic Complex    120.0    124.0  122.0  43.30   \n",
       "61        Monteregian Hills intrusives    117.0    127.0  122.0  45.30   \n",
       "62     White Mountains igneous complex    119.0    126.0  122.5  43.50   \n",
       "63                     Lebanon diorite    122.0    128.0  125.0  43.40   \n",
       "64                Notre Dame Bay dikes    122.0    136.0  129.0  49.50   \n",
       "\n",
       "      slon    N      k  alpha95   dp  ...  lithology  Rlat  Rlon  Euler_lat  \\\n",
       "0   242.13   38   24.7      4.8  NaN  ...   volcanic -86.3   5.7        0.0   \n",
       "1   257.67    8   29.0      9.1  8.5  ...   volcanic -86.4   9.2       79.2   \n",
       "2   256.76   17   26.0      7.1  6.9  ...   volcanic -85.3 -94.1       79.9   \n",
       "3   260.10   24   47.3      4.3  3.5  ...   volcanic -88.9 -75.1       79.9   \n",
       "4   232.40  100    9.1      4.9  7.9  ...   clastics -80.0   4.2       80.8   \n",
       "..     ...  ...    ...      ...  ...  ...        ...   ...   ...        ...   \n",
       "60  289.30   10  113.0      4.6  NaN  ...   plutonic -44.4  86.2       65.7   \n",
       "61  286.80   70   49.2      2.4  2.8  ...   plutonic -51.7  79.7       65.7   \n",
       "62  288.30    8  274.9      3.3  4.2  ...   plutonic -51.5  77.6       65.7   \n",
       "63  289.20    5  113.0      7.5  NaN  ...   plutonic -49.4  83.7       65.4   \n",
       "64  304.60   10  180.0      3.6  NaN  ...      dykes -43.6  91.6       64.9   \n",
       "\n",
       "    Euler_lon  Euler_ang                       author  Q  \\\n",
       "0         0.0        0.0              Mankinen (2008)  5   \n",
       "1        23.0        0.2    Maciel Peña et al. (2009)  5   \n",
       "2        22.7        0.3           Ceja et al. (2006)  5   \n",
       "3        22.7        0.3  Ruiz-Martínez et al. (2010)  5   \n",
       "4        22.8        0.4     Barendregt et al. (1996)  3   \n",
       "..        ...        ...                          ... ..   \n",
       "60      -19.8       55.3              McEnroe (1996b)  5   \n",
       "61      -19.8       55.3     Foster and Symons (1979)  6   \n",
       "62      -19.8       55.3   Van Fossen and Kent (1992)  5   \n",
       "63      -18.9       56.8              McEnroe (1996b)  5   \n",
       "64      -17.7       58.7              Lapointe (1979)  5   \n",
       "\n",
       "                                          reliability  \\\n",
       "0                                                 NaN   \n",
       "1                                                 NaN   \n",
       "2                                                 NaN   \n",
       "3                                                 NaN   \n",
       "4                                                 NaN   \n",
       "..                                                ...   \n",
       "60  high-T CHRM, exsolution lamellae and fine reac...   \n",
       "61                                                NaN   \n",
       "62                                                NaN   \n",
       "63  high-T CHRM, exsolution lamellae and fine reac...   \n",
       "64            stepwise demag, good structural control   \n",
       "\n",
       "                                      age constraints  \n",
       "0                                Brunhes normal chron  \n",
       "1     Ar-Ar ages of 82 to 612 ka (from another study)  \n",
       "2   Ar/Ar ages of 0.115 to 1.13 Ma (from another s...  \n",
       "3              all Quaternary rocks (some K-Ar dated)  \n",
       "4                                 magnetostratigraphy  \n",
       "..                                                ...  \n",
       "60  122±2; K-Ar on biotite in gabbro, Ar-Ar on bio...  \n",
       "61                         118±4 Ma Rb-Sr; 123±4 K-Ar  \n",
       "62                             Ar/Ar age of 122.5±3.5  \n",
       "63  125±3 Ma K-Ar on biotite. They discarded disco...  \n",
       "64                                         K-Ar of  ?  \n",
       "\n",
       "[65 rows x 26 columns]"
      ]
     },
     "execution_count": 3,
     "metadata": {},
     "output_type": "execute_result"
    }
   ],
   "source": [
    "df_NAM = pd.read_excel(data_path_PP + file_name)\n",
    "df_NAM"
   ]
  },
  {
   "cell_type": "code",
   "execution_count": 4,
   "id": "fd8c9ac6-762a-4442-b61b-3069d13f652a",
   "metadata": {},
   "outputs": [
    {
     "data": {
      "text/plain": [
       "<matplotlib.colorbar.Colorbar at 0x7f95093bc290>"
      ]
     },
     "execution_count": 4,
     "metadata": {},
     "output_type": "execute_result"
    },
    {
     "data": {
      "image/png": "[encoded data removed]",
      "text/plain": [
       "<Figure size 1440x1080 with 2 Axes>"
      ]
     },
     "metadata": {
      "needs_background": "light"
     },
     "output_type": "display_data"
    }
   ],
   "source": [
    "plt.figure(figsize=(20,15))\n",
    "plt.scatter(df_NAM.slon, df_NAM.slat, c=df_NAM.age, s=80)\n",
    "plt.colorbar()"
   ]
  },
  {
   "cell_type": "code",
   "execution_count": 5,
   "id": "fe1ab3b4-c91c-466b-a8f7-ca62f24af8b2",
   "metadata": {},
   "outputs": [],
   "source": [
    "df_NAM[\"x\"] = df_NAM.apply(lambda row: spherical2cartesian(row.slat, row.slon)[0], axis=1)\n",
    "df_NAM[\"y\"] = df_NAM.apply(lambda row: spherical2cartesian(row.slat, row.slon)[1], axis=1)\n",
    "df_NAM[\"z\"] = df_NAM.apply(lambda row: spherical2cartesian(row.slat, row.slon)[2], axis=1)"
   ]
  },
  {
   "cell_type": "markdown",
   "id": "255c7905-66e9-41b3-a45a-25590dee8eff",
   "metadata": {},
   "source": [
    "We make a few simple plots of the PPs"
   ]
  },
  {
   "cell_type": "code",
   "execution_count": 6,
   "id": "16f26958-4079-4212-9ac7-4bb62fbc2162",
   "metadata": {},
   "outputs": [],
   "source": [
    "import plotly\n",
    "import plotly.graph_objects as go"
   ]
  },
  {
   "cell_type": "code",
   "execution_count": 23,
   "id": "cba94b32-dce9-43f5-8f32-737ecc4e0305",
   "metadata": {},
   "outputs": [],
   "source": [
    "PPs_plot = go.Scatter3d(x=df_NAM.x.values, y=df_NAM.y.values, z=df_NAM.z.values, mode=\"markers\", \n",
    "                            marker=go.scatter3d.Marker(color=\"black\", opacity=1.0, size=3, symbol=\"circle\"),\n",
    "                            showlegend=False) "
   ]
  },
  {
   "cell_type": "code",
   "execution_count": 24,
   "id": "2d290d72-3322-4312-b34e-3edc9c868dce",
   "metadata": {},
   "outputs": [],
   "source": [
    "noaxis=dict(showbackground=False,\n",
    "            showgrid=False,\n",
    "            showline=False,\n",
    "            showticklabels=False,\n",
    "            ticks='',\n",
    "            title='',\n",
    "            zeroline=False)\n",
    "\n",
    "layout = go.Layout(title=\"Paleomagnetic Poles for the North America plate\",\n",
    "                    scene = dict(\n",
    "                    xaxis = noaxis,\n",
    "                    yaxis = noaxis,\n",
    "                    zaxis = noaxis,\n",
    "                    camera=dict(eye=dict(x=-1.5, y=0, z=0.2))))"
   ]
  },
  {
   "cell_type": "code",
   "execution_count": 27,
   "id": "7210da5b-844c-41a1-8c33-ffef92b85615",
   "metadata": {},
   "outputs": [
    {
     "data": {
      "application/vnd.plotly.v1+json": {
       "config": {
        "plotlyServerURL": "https://plot.ly"
       },
       "data": [
        {
         "marker": {
          "color": "black",
          "opacity": 1,
          "size": 3,
          "symbol": "circle"
         },
         "mode": "markers",
         "showlegend": false,
         "type": "scatter3d",
         "x": [
          -0.16644544083303975,
          0.9192637048637263,
          -0.026142192641399577,
          -0.6773647635872857,
          -0.5607500231842718,
          -0.22376891581666858,
          -0.1147635054306119,
          -0.7233401033574326,
          -0.06829227247390368,
          0.5258133024601263,
          -0.41602231095142495,
          -0.011713979657354823,
          -0.010087302188533475,
          -0.05027903221267958,
          -0.13229037242421704,
          0.014949016681402737,
          -0.4297214314408294,
          -0.4541692282862068,
          0.18806673679726602,
          -0.6169737818573476,
          -0.8759184527401915,
          -0.6169737818573476,
          -0.198111105876864,
          -0.22068832610404582,
          -0.5813791687612353,
          -0.4672329209855424,
          0.5005773607579412,
          0.22061218490782739,
          0.4970089449357873,
          0.3756912748736423,
          0.20940878743326316,
          0.11086042865343945,
          -0.41405904197460586,
          -0.7401633540986895,
          0.5732176588353001,
          0.0376870963104204,
          0.11313304682355942,
          -0.10197487033653255,
          0.6376679423124898,
          0.6492235610602751,
          0.3253899920111768,
          -0.5264499560292935,
          0.029685950633342506,
          -0.8659009718021566,
          -0.8806913460094625,
          0.35788076704955596,
          -0.7370684150824497,
          0.9266774166446295,
          0.3387389960123347,
          0.026537972300156813,
          0.3929636514706745,
          0.5110949288949933,
          0.8645103887905536,
          -0.28349676500898974,
          -0.13671732980050166,
          0.5353162487119779,
          0.9871214846137537,
          0.9898444867168484,
          0.8530087673914428,
          -0.5101402208609629,
          0.7472837963385046,
          -0.1526780089421151,
          0.6622232602596388,
          0.8226658089862431,
          -0.7145372276608585
         ],
         "y": [
          -0.03850986920007568,
          0.054670795239880006,
          0.02979440348750596,
          0.5172805644622019,
          0.0437463858106058,
          0.2131255940459379,
          -0.063797633603561,
          -0.6444821954315866,
          0.30740648526508835,
          0.07743552628648213,
          0.1222547306796741,
          0.025774733525066526,
          0.0176749302365784,
          0.07246649111327277,
          -0.21260163909601743,
          0.9949801466214989,
          -0.8555470532898225,
          -0.014081511758391008,
          0.9363741602928858,
          -0.08128599778669288,
          0.06053882033770805,
          -0.08128599778669288,
          -0.23606274692673432,
          -0.21510530788370555,
          -0.027816791418865314,
          0.4913949114668046,
          -0.41000990874349974,
          0.7657433566164055,
          -0.6519582172695092,
          -0.4086647079317548,
          -0.8433483753565693,
          -0.009537427285858598,
          -0.6423887558138826,
          -0.11623919583072603,
          0.18626308012392165,
          -0.8681406598256549,
          0.7164438001115541,
          0.7063204364268004,
          0.5078864282164767,
          0.1526929790288067,
          0.3171582097226189,
          -0.8460488960976368,
          -0.056335113831006166,
          0.20038284556567454,
          0.29911458266264934,
          -0.753558207301066,
          -0.23950524052986435,
          -0.07972293257429366,
          -0.029142035463816107,
          0.6664098694547316,
          0.3406302052098195,
          -0.09607987164995205,
          0.43331131650388055,
          -0.8393478131037774,
          0.9417582412399875,
          -0.05724077290584397,
          0.15270015807897222,
          0.05298330936747635,
          0.23927225055569518,
          0.49280619752613347,
          0.20961598823950317,
          -0.19846819686771658,
          -0.5885027788411459,
          0.1441617045862659,
          0.09667983493626832
         ],
         "z": [
          -0.9852983838412038,
          0.3898273272463786,
          0.9992141308471991,
          0.5230657651576964,
          0.8268286794901035,
          0.9510546532543747,
          -0.9913421204447351,
          0.24783420798295983,
          0.9491245536478946,
          0.8470679490009708,
          -0.9010988944711209,
          -0.9995991425528029,
          0.9997929001426692,
          -0.9961027188927286,
          0.9681424484121893,
          -0.09894965755028955,
          -0.2887537548977434,
          -0.8908041440768614,
          0.2963685787093853,
          -0.7827745135506544,
          -0.47864591858841493,
          -0.7827745135506544,
          0.9513287387867827,
          0.9513287387867827,
          -0.8131571116614884,
          -0.7349996180487777,
          0.762439624251495,
          -0.6041252979871271,
          -0.572653989411214,
          -0.8317747426285983,
          0.49488531755262816,
          -0.9937902207405457,
          0.6448967329448674,
          0.662304052986243,
          0.7979521167226309,
          0.49488531755262816,
          -0.6884106296376704,
          -0.7005087914549692,
          0.5791640280442709,
          0.7451131604793488,
          -0.8908041440768614,
          0.08397445569174683,
          0.9979704901872812,
          -0.45832545449176587,
          -0.36730534913419133,
          0.5514266812416906,
          0.631955213006885,
          -0.36730534913419133,
          0.940428962947006,
          0.7451131604793488,
          0.8541373612725007,
          0.8541373612725007,
          0.2546823328440351,
          -0.4638155159838274,
          -0.30724548294285187,
          -0.8427099191193119,
          0.04768476000354508,
          -0.13191156524251116,
          -0.4638155159838274,
          -0.7049106374142481,
          -0.630577564780328,
          0.9681424484121893,
          -0.4638155159838274,
          -0.5499439695603476,
          -0.6928849542336957
         ]
        }
       ],
       "layout": {
        "autosize": true,
        "scene": {
         "aspectmode": "auto",
         "aspectratio": {
          "x": 0.979334444940575,
          "y": 0.9754522468461746,
          "z": 1.046798175204094
         },
         "camera": {
          "center": {
           "x": 0,
           "y": 0,
           "z": 0
          },
          "eye": {
           "x": -0.18109113944480176,
           "y": 0.3690961047707622,
           "z": 1.4563564346195041
          },
          "projection": {
           "type": "perspective"
          },
          "up": {
           "x": 0,
           "y": 0,
           "z": 1
          }
         },
         "xaxis": {
          "showbackground": false,
          "showgrid": false,
          "showline": false,
          "showticklabels": false,
          "ticks": "",
          "title": {
           "text": ""
          },
          "type": "linear",
          "zeroline": false
         },
         "yaxis": {
          "showbackground": false,
          "showgrid": false,
          "showline": false,
          "showticklabels": false,
          "ticks": "",
          "title": {
           "text": ""
          },
          "type": "linear",
          "zeroline": false
         },
         "zaxis": {
          "showbackground": false,
          "showgrid": false,
          "showline": false,
          "showticklabels": false,
          "ticks": "",
          "title": {
           "text": ""
          },
          "type": "linear",
          "zeroline": false
         }
        },
        "template": {
         "data": {
          "bar": [
           {
            "error_x": {
             "color": "#2a3f5f"
            },
            "error_y": {
             "color": "#2a3f5f"
            },
            "marker": {
             "line": {
              "color": "#E5ECF6",
              "width": 0.5
             },
             "pattern": {
              "fillmode": "overlay",
              "size": 10,
              "solidity": 0.2
             }
            },
            "type": "bar"
           }
          ],
          "barpolar": [
           {
            "marker": {
             "line": {
              "color": "#E5ECF6",
              "width": 0.5
             },
             "pattern": {
              "fillmode": "overlay",
              "size": 10,
              "solidity": 0.2
             }
            },
            "type": "barpolar"
           }
          ],
          "carpet": [
           {
            "aaxis": {
             "endlinecolor": "#2a3f5f",
             "gridcolor": "white",
             "linecolor": "white",
             "minorgridcolor": "white",
             "startlinecolor": "#2a3f5f"
            },
            "baxis": {
             "endlinecolor": "#2a3f5f",
             "gridcolor": "white",
             "linecolor": "white",
             "minorgridcolor": "white",
             "startlinecolor": "#2a3f5f"
            },
            "type": "carpet"
           }
          ],
          "choropleth": [
           {
            "colorbar": {
             "outlinewidth": 0,
             "ticks": ""
            },
            "type": "choropleth"
           }
          ],
          "contour": [
           {
            "colorbar": {
             "outlinewidth": 0,
             "ticks": ""
            },
            "colorscale": [
             [
              0,
              "#0d0887"
             ],
             [
              0.1111111111111111,
              "#46039f"
             ],
             [
              0.2222222222222222,
              "#7201a8"
             ],
             [
              0.3333333333333333,
              "#9c179e"
             ],
             [
              0.4444444444444444,
              "#bd3786"
             ],
             [
              0.5555555555555556,
              "#d8576b"
             ],
             [
              0.6666666666666666,
              "#ed7953"
             ],
             [
              0.7777777777777778,
              "#fb9f3a"
             ],
             [
              0.8888888888888888,
              "#fdca26"
             ],
             [
              1,
              "#f0f921"
             ]
            ],
            "type": "contour"
           }
          ],
          "contourcarpet": [
           {
            "colorbar": {
             "outlinewidth": 0,
             "ticks": ""
            },
            "type": "contourcarpet"
           }
          ],
          "heatmap": [
           {
            "colorbar": {
             "outlinewidth": 0,
             "ticks": ""
            },
            "colorscale": [
             [
              0,
              "#0d0887"
             ],
             [
              0.1111111111111111,
              "#46039f"
             ],
             [
              0.2222222222222222,
              "#7201a8"
             ],
             [
              0.3333333333333333,
              "#9c179e"
             ],
             [
              0.4444444444444444,
              "#bd3786"
             ],
             [
              0.5555555555555556,
              "#d8576b"
             ],
             [
              0.6666666666666666,
              "#ed7953"
             ],
             [
              0.7777777777777778,
              "#fb9f3a"
             ],
             [
              0.8888888888888888,
              "#fdca26"
             ],
             [
              1,
              "#f0f921"
             ]
            ],
            "type": "heatmap"
           }
          ],
          "heatmapgl": [
           {
            "colorbar": {
             "outlinewidth": 0,
             "ticks": ""
            },
            "colorscale": [
             [
              0,
              "#0d0887"
             ],
             [
              0.1111111111111111,
              "#46039f"
             ],
             [
              0.2222222222222222,
              "#7201a8"
             ],
             [
              0.3333333333333333,
              "#9c179e"
             ],
             [
              0.4444444444444444,
              "#bd3786"
             ],
             [
              0.5555555555555556,
              "#d8576b"
             ],
             [
              0.6666666666666666,
              "#ed7953"
             ],
             [
              0.7777777777777778,
              "#fb9f3a"
             ],
             [
              0.8888888888888888,
              "#fdca26"
             ],
             [
              1,
              "#f0f921"
             ]
            ],
            "type": "heatmapgl"
           }
          ],
          "histogram": [
           {
            "marker": {
             "pattern": {
              "fillmode": "overlay",
              "size": 10,
              "solidity": 0.2
             }
            },
            "type": "histogram"
           }
          ],
          "histogram2d": [
           {
            "colorbar": {
             "outlinewidth": 0,
             "ticks": ""
            },
            "colorscale": [
             [
              0,
              "#0d0887"
             ],
             [
              0.1111111111111111,
              "#46039f"
             ],
             [
              0.2222222222222222,
              "#7201a8"
             ],
             [
              0.3333333333333333,
              "#9c179e"
             ],
             [
              0.4444444444444444,
              "#bd3786"
             ],
             [
              0.5555555555555556,
              "#d8576b"
             ],
             [
              0.6666666666666666,
              "#ed7953"
             ],
             [
              0.7777777777777778,
              "#fb9f3a"
             ],
             [
              0.8888888888888888,
              "#fdca26"
             ],
             [
              1,
              "#f0f921"
             ]
            ],
            "type": "histogram2d"
           }
          ],
          "histogram2dcontour": [
           {
            "colorbar": {
             "outlinewidth": 0,
             "ticks": ""
            },
            "colorscale": [
             [
              0,
              "#0d0887"
             ],
             [
              0.1111111111111111,
              "#46039f"
             ],
             [
              0.2222222222222222,
              "#7201a8"
             ],
             [
              0.3333333333333333,
              "#9c179e"
             ],
             [
              0.4444444444444444,
              "#bd3786"
             ],
             [
              0.5555555555555556,
              "#d8576b"
             ],
             [
              0.6666666666666666,
              "#ed7953"
             ],
             [
              0.7777777777777778,
              "#fb9f3a"
             ],
             [
              0.8888888888888888,
              "#fdca26"
             ],
             [
              1,
              "#f0f921"
             ]
            ],
            "type": "histogram2dcontour"
           }
          ],
          "mesh3d": [
           {
            "colorbar": {
             "outlinewidth": 0,
             "ticks": ""
            },
            "type": "mesh3d"
           }
          ],
          "parcoords": [
           {
            "line": {
             "colorbar": {
              "outlinewidth": 0,
              "ticks": ""
             }
            },
            "type": "parcoords"
           }
          ],
          "pie": [
           {
            "automargin": true,
            "type": "pie"
           }
          ],
          "scatter": [
           {
            "marker": {
             "colorbar": {
              "outlinewidth": 0,
              "ticks": ""
             }
            },
            "type": "scatter"
           }
          ],
          "scatter3d": [
           {
            "line": {
             "colorbar": {
              "outlinewidth": 0,
              "ticks": ""
             }
            },
            "marker": {
             "colorbar": {
              "outlinewidth": 0,
              "ticks": ""
             }
            },
            "type": "scatter3d"
           }
          ],
          "scattercarpet": [
           {
            "marker": {
             "colorbar": {
              "outlinewidth": 0,
              "ticks": ""
             }
            },
            "type": "scattercarpet"
           }
          ],
          "scattergeo": [
           {
            "marker": {
             "colorbar": {
              "outlinewidth": 0,
              "ticks": ""
             }
            },
            "type": "scattergeo"
           }
          ],
          "scattergl": [
           {
            "marker": {
             "colorbar": {
              "outlinewidth": 0,
              "ticks": ""
             }
            },
            "type": "scattergl"
           }
          ],
          "scattermapbox": [
           {
            "marker": {
             "colorbar": {
              "outlinewidth": 0,
              "ticks": ""
             }
            },
            "type": "scattermapbox"
           }
          ],
          "scatterpolar": [
           {
            "marker": {
             "colorbar": {
              "outlinewidth": 0,
              "ticks": ""
             }
            },
            "type": "scatterpolar"
           }
          ],
          "scatterpolargl": [
           {
            "marker": {
             "colorbar": {
              "outlinewidth": 0,
              "ticks": ""
             }
            },
            "type": "scatterpolargl"
           }
          ],
          "scatterternary": [
           {
            "marker": {
             "colorbar": {
              "outlinewidth": 0,
              "ticks": ""
             }
            },
            "type": "scatterternary"
           }
          ],
          "surface": [
           {
            "colorbar": {
             "outlinewidth": 0,
             "ticks": ""
            },
            "colorscale": [
             [
              0,
              "#0d0887"
             ],
             [
              0.1111111111111111,
              "#46039f"
             ],
             [
              0.2222222222222222,
              "#7201a8"
             ],
             [
              0.3333333333333333,
              "#9c179e"
             ],
             [
              0.4444444444444444,
              "#bd3786"
             ],
             [
              0.5555555555555556,
              "#d8576b"
             ],
             [
              0.6666666666666666,
              "#ed7953"
             ],
             [
              0.7777777777777778,
              "#fb9f3a"
             ],
             [
              0.8888888888888888,
              "#fdca26"
             ],
             [
              1,
              "#f0f921"
             ]
            ],
            "type": "surface"
           }
          ],
          "table": [
           {
            "cells": {
             "fill": {
              "color": "#EBF0F8"
             },
             "line": {
              "color": "white"
             }
            },
            "header": {
             "fill": {
              "color": "#C8D4E3"
             },
             "line": {
              "color": "white"
             }
            },
            "type": "table"
           }
          ]
         },
         "layout": {
          "annotationdefaults": {
           "arrowcolor": "#2a3f5f",
           "arrowhead": 0,
           "arrowwidth": 1
          },
          "autotypenumbers": "strict",
          "coloraxis": {
           "colorbar": {
            "outlinewidth": 0,
            "ticks": ""
           }
          },
          "colorscale": {
           "diverging": [
            [
             0,
             "#8e0152"
            ],
            [
             0.1,
             "#c51b7d"
            ],
            [
             0.2,
             "#de77ae"
            ],
            [
             0.3,
             "#f1b6da"
            ],
            [
             0.4,
             "#fde0ef"
            ],
            [
             0.5,
             "#f7f7f7"
            ],
            [
             0.6,
             "#e6f5d0"
            ],
            [
             0.7,
             "#b8e186"
            ],
            [
             0.8,
             "#7fbc41"
            ],
            [
             0.9,
             "#4d9221"
            ],
            [
             1,
             "#276419"
            ]
           ],
           "sequential": [
            [
             0,
             "#0d0887"
            ],
            [
             0.1111111111111111,
             "#46039f"
            ],
            [
             0.2222222222222222,
             "#7201a8"
            ],
            [
             0.3333333333333333,
             "#9c179e"
            ],
            [
             0.4444444444444444,
             "#bd3786"
            ],
            [
             0.5555555555555556,
             "#d8576b"
            ],
            [
             0.6666666666666666,
             "#ed7953"
            ],
            [
             0.7777777777777778,
             "#fb9f3a"
            ],
            [
             0.8888888888888888,
             "#fdca26"
            ],
            [
             1,
             "#f0f921"
            ]
           ],
           "sequentialminus": [
            [
             0,
             "#0d0887"
            ],
            [
             0.1111111111111111,
             "#46039f"
            ],
            [
             0.2222222222222222,
             "#7201a8"
            ],
            [
             0.3333333333333333,
             "#9c179e"
            ],
            [
             0.4444444444444444,
             "#bd3786"
            ],
            [
             0.5555555555555556,
             "#d8576b"
            ],
            [
             0.6666666666666666,
             "#ed7953"
            ],
            [
             0.7777777777777778,
             "#fb9f3a"
            ],
            [
             0.8888888888888888,
             "#fdca26"
            ],
            [
             1,
             "#f0f921"
            ]
           ]
          },
          "colorway": [
           "#636efa",
           "#EF553B",
           "#00cc96",
           "#ab63fa",
           "#FFA15A",
           "#19d3f3",
           "#FF6692",
           "#B6E880",
           "#FF97FF",
           "#FECB52"
          ],
          "font": {
           "color": "#2a3f5f"
          },
          "geo": {
           "bgcolor": "white",
           "lakecolor": "white",
           "landcolor": "#E5ECF6",
           "showlakes": true,
           "showland": true,
           "subunitcolor": "white"
          },
          "hoverlabel": {
           "align": "left"
          },
          "hovermode": "closest",
          "mapbox": {
           "style": "light"
          },
          "paper_bgcolor": "white",
          "plot_bgcolor": "#E5ECF6",
          "polar": {
           "angularaxis": {
            "gridcolor": "white",
            "linecolor": "white",
            "ticks": ""
           },
           "bgcolor": "#E5ECF6",
           "radialaxis": {
            "gridcolor": "white",
            "linecolor": "white",
            "ticks": ""
           }
          },
          "scene": {
           "xaxis": {
            "backgroundcolor": "#E5ECF6",
            "gridcolor": "white",
            "gridwidth": 2,
            "linecolor": "white",
            "showbackground": true,
            "ticks": "",
            "zerolinecolor": "white"
           },
           "yaxis": {
            "backgroundcolor": "#E5ECF6",
            "gridcolor": "white",
            "gridwidth": 2,
            "linecolor": "white",
            "showbackground": true,
            "ticks": "",
            "zerolinecolor": "white"
           },
           "zaxis": {
            "backgroundcolor": "#E5ECF6",
            "gridcolor": "white",
            "gridwidth": 2,
            "linecolor": "white",
            "showbackground": true,
            "ticks": "",
            "zerolinecolor": "white"
           }
          },
          "shapedefaults": {
           "line": {
            "color": "#2a3f5f"
           }
          },
          "ternary": {
           "aaxis": {
            "gridcolor": "white",
            "linecolor": "white",
            "ticks": ""
           },
           "baxis": {
            "gridcolor": "white",
            "linecolor": "white",
            "ticks": ""
           },
           "bgcolor": "#E5ECF6",
           "caxis": {
            "gridcolor": "white",
            "linecolor": "white",
            "ticks": ""
           }
          },
          "title": {
           "x": 0.05
          },
          "xaxis": {
           "automargin": true,
           "gridcolor": "white",
           "linecolor": "white",
           "ticks": "",
           "title": {
            "standoff": 15
           },
           "zerolinecolor": "white",
           "zerolinewidth": 2
          },
          "yaxis": {
           "automargin": true,
           "gridcolor": "white",
           "linecolor": "white",
           "ticks": "",
           "title": {
            "standoff": 15
           },
           "zerolinecolor": "white",
           "zerolinewidth": 2
          }
         }
        },
        "title": {
         "text": "Paleomagnetic Poles for the North America plate"
        }
       }
      },
      "image/png": "[encoded data removed]",
      "text/html": [
       "<div>                            <div id=\"428cd703-06b9-40f3-8090-a5414a8db482\" class=\"plotly-graph-div\" style=\"height:525px; width:100%;\"></div>            <script type=\"text/javascript\">                require([\"plotly\"], function(Plotly) {                    window.PLOTLYENV=window.PLOTLYENV || {};                                    if (document.getElementById(\"428cd703-06b9-40f3-8090-a5414a8db482\")) {                    Plotly.newPlot(                        \"428cd703-06b9-40f3-8090-a5414a8db482\",                        [{\"marker\":{\"color\":\"black\",\"opacity\":1.0,\"size\":3,\"symbol\":\"circle\"},\"mode\":\"markers\",\"showlegend\":false,\"x\":[-0.16644544083303975,0.9192637048637263,-0.026142192641399577,-0.6773647635872857,-0.5607500231842718,-0.22376891581666858,-0.1147635054306119,-0.7233401033574326,-0.06829227247390368,0.5258133024601263,-0.41602231095142495,-0.011713979657354823,-0.010087302188533475,-0.05027903221267958,-0.13229037242421704,0.014949016681402737,-0.4297214314408294,-0.4541692282862068,0.18806673679726602,-0.6169737818573476,-0.8759184527401915,-0.6169737818573476,-0.198111105876864,-0.22068832610404582,-0.5813791687612353,-0.4672329209855424,0.5005773607579412,0.22061218490782739,0.4970089449357873,0.3756912748736423,0.20940878743326316,0.11086042865343945,-0.41405904197460586,-0.7401633540986895,0.5732176588353001,0.0376870963104204,0.11313304682355942,-0.10197487033653255,0.6376679423124898,0.6492235610602751,0.3253899920111768,-0.5264499560292935,0.029685950633342506,-0.8659009718021566,-0.8806913460094625,0.35788076704955596,-0.7370684150824497,0.9266774166446295,0.3387389960123347,0.026537972300156813,0.3929636514706745,0.5110949288949933,0.8645103887905536,-0.28349676500898974,-0.13671732980050166,0.5353162487119779,0.9871214846137537,0.9898444867168484,0.8530087673914428,-0.5101402208609629,0.7472837963385046,-0.1526780089421151,0.6622232602596388,0.8226658089862431,-0.7145372276608585],\"y\":[-0.03850986920007568,0.054670795239880006,0.02979440348750596,0.5172805644622019,0.0437463858106058,0.2131255940459379,-0.063797633603561,-0.6444821954315866,0.30740648526508835,0.07743552628648213,0.1222547306796741,0.025774733525066526,0.0176749302365784,0.07246649111327277,-0.21260163909601743,0.9949801466214989,-0.8555470532898225,-0.014081511758391008,0.9363741602928858,-0.08128599778669288,0.06053882033770805,-0.08128599778669288,-0.23606274692673432,-0.21510530788370555,-0.027816791418865314,0.4913949114668046,-0.41000990874349974,0.7657433566164055,-0.6519582172695092,-0.4086647079317548,-0.8433483753565693,-0.009537427285858598,-0.6423887558138826,-0.11623919583072603,0.18626308012392165,-0.8681406598256549,0.7164438001115541,0.7063204364268004,0.5078864282164767,0.1526929790288067,0.3171582097226189,-0.8460488960976368,-0.056335113831006166,0.20038284556567454,0.29911458266264934,-0.753558207301066,-0.23950524052986435,-0.07972293257429366,-0.029142035463816107,0.6664098694547316,0.3406302052098195,-0.09607987164995205,0.43331131650388055,-0.8393478131037774,0.9417582412399875,-0.05724077290584397,0.15270015807897222,0.05298330936747635,0.23927225055569518,0.49280619752613347,0.20961598823950317,-0.19846819686771658,-0.5885027788411459,0.1441617045862659,0.09667983493626832],\"z\":[-0.9852983838412038,0.3898273272463786,0.9992141308471991,0.5230657651576964,0.8268286794901035,0.9510546532543747,-0.9913421204447351,0.24783420798295983,0.9491245536478946,0.8470679490009708,-0.9010988944711209,-0.9995991425528029,0.9997929001426692,-0.9961027188927286,0.9681424484121893,-0.09894965755028955,-0.2887537548977434,-0.8908041440768614,0.2963685787093853,-0.7827745135506544,-0.47864591858841493,-0.7827745135506544,0.9513287387867827,0.9513287387867827,-0.8131571116614884,-0.7349996180487777,0.762439624251495,-0.6041252979871271,-0.572653989411214,-0.8317747426285983,0.49488531755262816,-0.9937902207405457,0.6448967329448674,0.662304052986243,0.7979521167226309,0.49488531755262816,-0.6884106296376704,-0.7005087914549692,0.5791640280442709,0.7451131604793488,-0.8908041440768614,0.08397445569174683,0.9979704901872812,-0.45832545449176587,-0.36730534913419133,0.5514266812416906,0.631955213006885,-0.36730534913419133,0.940428962947006,0.7451131604793488,0.8541373612725007,0.8541373612725007,0.2546823328440351,-0.4638155159838274,-0.30724548294285187,-0.8427099191193119,0.04768476000354508,-0.13191156524251116,-0.4638155159838274,-0.7049106374142481,-0.630577564780328,0.9681424484121893,-0.4638155159838274,-0.5499439695603476,-0.6928849542336957],\"type\":\"scatter3d\"}],                        {\"scene\":{\"camera\":{\"eye\":{\"x\":-1.5,\"y\":0,\"z\":0.2}},\"xaxis\":{\"showbackground\":false,\"showgrid\":false,\"showline\":false,\"showticklabels\":false,\"ticks\":\"\",\"title\":{\"text\":\"\"},\"zeroline\":false},\"yaxis\":{\"showbackground\":false,\"showgrid\":false,\"showline\":false,\"showticklabels\":false,\"ticks\":\"\",\"title\":{\"text\":\"\"},\"zeroline\":false},\"zaxis\":{\"showbackground\":false,\"showgrid\":false,\"showline\":false,\"showticklabels\":false,\"ticks\":\"\",\"title\":{\"text\":\"\"},\"zeroline\":false}},\"title\":{\"text\":\"Paleomagnetic Poles for the North America plate\"},\"template\":{\"data\":{\"bar\":[{\"error_x\":{\"color\":\"#2a3f5f\"},\"error_y\":{\"color\":\"#2a3f5f\"},\"marker\":{\"line\":{\"color\":\"#E5ECF6\",\"width\":0.5},\"pattern\":{\"fillmode\":\"overlay\",\"size\":10,\"solidity\":0.2}},\"type\":\"bar\"}],\"barpolar\":[{\"marker\":{\"line\":{\"color\":\"#E5ECF6\",\"width\":0.5},\"pattern\":{\"fillmode\":\"overlay\",\"size\":10,\"solidity\":0.2}},\"type\":\"barpolar\"}],\"carpet\":[{\"aaxis\":{\"endlinecolor\":\"#2a3f5f\",\"gridcolor\":\"white\",\"linecolor\":\"white\",\"minorgridcolor\":\"white\",\"startlinecolor\":\"#2a3f5f\"},\"baxis\":{\"endlinecolor\":\"#2a3f5f\",\"gridcolor\":\"white\",\"linecolor\":\"white\",\"minorgridcolor\":\"white\",\"startlinecolor\":\"#2a3f5f\"},\"type\":\"carpet\"}],\"choropleth\":[{\"colorbar\":{\"outlinewidth\":0,\"ticks\":\"\"},\"type\":\"choropleth\"}],\"contour\":[{\"colorbar\":{\"outlinewidth\":0,\"ticks\":\"\"},\"colorscale\":[[0.0,\"#0d0887\"],[0.1111111111111111,\"#46039f\"],[0.2222222222222222,\"#7201a8\"],[0.3333333333333333,\"#9c179e\"],[0.4444444444444444,\"#bd3786\"],[0.5555555555555556,\"#d8576b\"],[0.6666666666666666,\"#ed7953\"],[0.7777777777777778,\"#fb9f3a\"],[0.8888888888888888,\"#fdca26\"],[1.0,\"#f0f921\"]],\"type\":\"contour\"}],\"contourcarpet\":[{\"colorbar\":{\"outlinewidth\":0,\"ticks\":\"\"},\"type\":\"contourcarpet\"}],\"heatmap\":[{\"colorbar\":{\"outlinewidth\":0,\"ticks\":\"\"},\"colorscale\":[[0.0,\"#0d0887\"],[0.1111111111111111,\"#46039f\"],[0.2222222222222222,\"#7201a8\"],[0.3333333333333333,\"#9c179e\"],[0.4444444444444444,\"#bd3786\"],[0.5555555555555556,\"#d8576b\"],[0.6666666666666666,\"#ed7953\"],[0.7777777777777778,\"#fb9f3a\"],[0.8888888888888888,\"#fdca26\"],[1.0,\"#f0f921\"]],\"type\":\"heatmap\"}],\"heatmapgl\":[{\"colorbar\":{\"outlinewidth\":0,\"ticks\":\"\"},\"colorscale\":[[0.0,\"#0d0887\"],[0.1111111111111111,\"#46039f\"],[0.2222222222222222,\"#7201a8\"],[0.3333333333333333,\"#9c179e\"],[0.4444444444444444,\"#bd3786\"],[0.5555555555555556,\"#d8576b\"],[0.6666666666666666,\"#ed7953\"],[0.7777777777777778,\"#fb9f3a\"],[0.8888888888888888,\"#fdca26\"],[1.0,\"#f0f921\"]],\"type\":\"heatmapgl\"}],\"histogram\":[{\"marker\":{\"pattern\":{\"fillmode\":\"overlay\",\"size\":10,\"solidity\":0.2}},\"type\":\"histogram\"}],\"histogram2d\":[{\"colorbar\":{\"outlinewidth\":0,\"ticks\":\"\"},\"colorscale\":[[0.0,\"#0d0887\"],[0.1111111111111111,\"#46039f\"],[0.2222222222222222,\"#7201a8\"],[0.3333333333333333,\"#9c179e\"],[0.4444444444444444,\"#bd3786\"],[0.5555555555555556,\"#d8576b\"],[0.6666666666666666,\"#ed7953\"],[0.7777777777777778,\"#fb9f3a\"],[0.8888888888888888,\"#fdca26\"],[1.0,\"#f0f921\"]],\"type\":\"histogram2d\"}],\"histogram2dcontour\":[{\"colorbar\":{\"outlinewidth\":0,\"ticks\":\"\"},\"colorscale\":[[0.0,\"#0d0887\"],[0.1111111111111111,\"#46039f\"],[0.2222222222222222,\"#7201a8\"],[0.3333333333333333,\"#9c179e\"],[0.4444444444444444,\"#bd3786\"],[0.5555555555555556,\"#d8576b\"],[0.6666666666666666,\"#ed7953\"],[0.7777777777777778,\"#fb9f3a\"],[0.8888888888888888,\"#fdca26\"],[1.0,\"#f0f921\"]],\"type\":\"histogram2dcontour\"}],\"mesh3d\":[{\"colorbar\":{\"outlinewidth\":0,\"ticks\":\"\"},\"type\":\"mesh3d\"}],\"parcoords\":[{\"line\":{\"colorbar\":{\"outlinewidth\":0,\"ticks\":\"\"}},\"type\":\"parcoords\"}],\"pie\":[{\"automargin\":true,\"type\":\"pie\"}],\"scatter\":[{\"marker\":{\"colorbar\":{\"outlinewidth\":0,\"ticks\":\"\"}},\"type\":\"scatter\"}],\"scatter3d\":[{\"line\":{\"colorbar\":{\"outlinewidth\":0,\"ticks\":\"\"}},\"marker\":{\"colorbar\":{\"outlinewidth\":0,\"ticks\":\"\"}},\"type\":\"scatter3d\"}],\"scattercarpet\":[{\"marker\":{\"colorbar\":{\"outlinewidth\":0,\"ticks\":\"\"}},\"type\":\"scattercarpet\"}],\"scattergeo\":[{\"marker\":{\"colorbar\":{\"outlinewidth\":0,\"ticks\":\"\"}},\"type\":\"scattergeo\"}],\"scattergl\":[{\"marker\":{\"colorbar\":{\"outlinewidth\":0,\"ticks\":\"\"}},\"type\":\"scattergl\"}],\"scattermapbox\":[{\"marker\":{\"colorbar\":{\"outlinewidth\":0,\"ticks\":\"\"}},\"type\":\"scattermapbox\"}],\"scatterpolar\":[{\"marker\":{\"colorbar\":{\"outlinewidth\":0,\"ticks\":\"\"}},\"type\":\"scatterpolar\"}],\"scatterpolargl\":[{\"marker\":{\"colorbar\":{\"outlinewidth\":0,\"ticks\":\"\"}},\"type\":\"scatterpolargl\"}],\"scatterternary\":[{\"marker\":{\"colorbar\":{\"outlinewidth\":0,\"ticks\":\"\"}},\"type\":\"scatterternary\"}],\"surface\":[{\"colorbar\":{\"outlinewidth\":0,\"ticks\":\"\"},\"colorscale\":[[0.0,\"#0d0887\"],[0.1111111111111111,\"#46039f\"],[0.2222222222222222,\"#7201a8\"],[0.3333333333333333,\"#9c179e\"],[0.4444444444444444,\"#bd3786\"],[0.5555555555555556,\"#d8576b\"],[0.6666666666666666,\"#ed7953\"],[0.7777777777777778,\"#fb9f3a\"],[0.8888888888888888,\"#fdca26\"],[1.0,\"#f0f921\"]],\"type\":\"surface\"}],\"table\":[{\"cells\":{\"fill\":{\"color\":\"#EBF0F8\"},\"line\":{\"color\":\"white\"}},\"header\":{\"fill\":{\"color\":\"#C8D4E3\"},\"line\":{\"color\":\"white\"}},\"type\":\"table\"}]},\"layout\":{\"annotationdefaults\":{\"arrowcolor\":\"#2a3f5f\",\"arrowhead\":0,\"arrowwidth\":1},\"autotypenumbers\":\"strict\",\"coloraxis\":{\"colorbar\":{\"outlinewidth\":0,\"ticks\":\"\"}},\"colorscale\":{\"diverging\":[[0,\"#8e0152\"],[0.1,\"#c51b7d\"],[0.2,\"#de77ae\"],[0.3,\"#f1b6da\"],[0.4,\"#fde0ef\"],[0.5,\"#f7f7f7\"],[0.6,\"#e6f5d0\"],[0.7,\"#b8e186\"],[0.8,\"#7fbc41\"],[0.9,\"#4d9221\"],[1,\"#276419\"]],\"sequential\":[[0.0,\"#0d0887\"],[0.1111111111111111,\"#46039f\"],[0.2222222222222222,\"#7201a8\"],[0.3333333333333333,\"#9c179e\"],[0.4444444444444444,\"#bd3786\"],[0.5555555555555556,\"#d8576b\"],[0.6666666666666666,\"#ed7953\"],[0.7777777777777778,\"#fb9f3a\"],[0.8888888888888888,\"#fdca26\"],[1.0,\"#f0f921\"]],\"sequentialminus\":[[0.0,\"#0d0887\"],[0.1111111111111111,\"#46039f\"],[0.2222222222222222,\"#7201a8\"],[0.3333333333333333,\"#9c179e\"],[0.4444444444444444,\"#bd3786\"],[0.5555555555555556,\"#d8576b\"],[0.6666666666666666,\"#ed7953\"],[0.7777777777777778,\"#fb9f3a\"],[0.8888888888888888,\"#fdca26\"],[1.0,\"#f0f921\"]]},\"colorway\":[\"#636efa\",\"#EF553B\",\"#00cc96\",\"#ab63fa\",\"#FFA15A\",\"#19d3f3\",\"#FF6692\",\"#B6E880\",\"#FF97FF\",\"#FECB52\"],\"font\":{\"color\":\"#2a3f5f\"},\"geo\":{\"bgcolor\":\"white\",\"lakecolor\":\"white\",\"landcolor\":\"#E5ECF6\",\"showlakes\":true,\"showland\":true,\"subunitcolor\":\"white\"},\"hoverlabel\":{\"align\":\"left\"},\"hovermode\":\"closest\",\"mapbox\":{\"style\":\"light\"},\"paper_bgcolor\":\"white\",\"plot_bgcolor\":\"#E5ECF6\",\"polar\":{\"angularaxis\":{\"gridcolor\":\"white\",\"linecolor\":\"white\",\"ticks\":\"\"},\"bgcolor\":\"#E5ECF6\",\"radialaxis\":{\"gridcolor\":\"white\",\"linecolor\":\"white\",\"ticks\":\"\"}},\"scene\":{\"xaxis\":{\"backgroundcolor\":\"#E5ECF6\",\"gridcolor\":\"white\",\"gridwidth\":2,\"linecolor\":\"white\",\"showbackground\":true,\"ticks\":\"\",\"zerolinecolor\":\"white\"},\"yaxis\":{\"backgroundcolor\":\"#E5ECF6\",\"gridcolor\":\"white\",\"gridwidth\":2,\"linecolor\":\"white\",\"showbackground\":true,\"ticks\":\"\",\"zerolinecolor\":\"white\"},\"zaxis\":{\"backgroundcolor\":\"#E5ECF6\",\"gridcolor\":\"white\",\"gridwidth\":2,\"linecolor\":\"white\",\"showbackground\":true,\"ticks\":\"\",\"zerolinecolor\":\"white\"}},\"shapedefaults\":{\"line\":{\"color\":\"#2a3f5f\"}},\"ternary\":{\"aaxis\":{\"gridcolor\":\"white\",\"linecolor\":\"white\",\"ticks\":\"\"},\"baxis\":{\"gridcolor\":\"white\",\"linecolor\":\"white\",\"ticks\":\"\"},\"bgcolor\":\"#E5ECF6\",\"caxis\":{\"gridcolor\":\"white\",\"linecolor\":\"white\",\"ticks\":\"\"}},\"title\":{\"x\":0.05},\"xaxis\":{\"automargin\":true,\"gridcolor\":\"white\",\"linecolor\":\"white\",\"ticks\":\"\",\"title\":{\"standoff\":15},\"zerolinecolor\":\"white\",\"zerolinewidth\":2},\"yaxis\":{\"automargin\":true,\"gridcolor\":\"white\",\"linecolor\":\"white\",\"ticks\":\"\",\"title\":{\"standoff\":15},\"zerolinecolor\":\"white\",\"zerolinewidth\":2}}}},                        {\"responsive\": true}                    ).then(function(){\n",
       "                            \n",
       "var gd = document.getElementById('428cd703-06b9-40f3-8090-a5414a8db482');\n",
       "var x = new MutationObserver(function (mutations, observer) {{\n",
       "        var display = window.getComputedStyle(gd).display;\n",
       "        if (!display || display === 'none') {{\n",
       "            console.log([gd, 'removed!']);\n",
       "            Plotly.purge(gd);\n",
       "            observer.disconnect();\n",
       "        }}\n",
       "}});\n",
       "\n",
       "// Listen for the removal of the full notebook cells\n",
       "var notebookContainer = gd.closest('#notebook-container');\n",
       "if (notebookContainer) {{\n",
       "    x.observe(notebookContainer, {childList: true});\n",
       "}}\n",
       "\n",
       "// Listen for the clearing of the current output cell\n",
       "var outputEl = gd.closest('.output');\n",
       "if (outputEl) {{\n",
       "    x.observe(outputEl, {childList: true});\n",
       "}}\n",
       "\n",
       "                        })                };                });            </script>        </div>"
      ]
     },
     "metadata": {},
     "output_type": "display_data"
    }
   ],
   "source": [
    "fig = go.Figure([PPs_plot], layout=layout)\n",
    "fig.show()"
   ]
  },
  {
   "cell_type": "markdown",
   "id": "29fba698-d438-4ee5-8c9c-c79a95bb7150",
   "metadata": {},
   "source": [
    "### Reading the Virtual Geoomagnetic Poles (VGP)"
   ]
  },
  {
   "cell_type": "code",
   "execution_count": 11,
   "id": "fbf3ca5d-f9bc-44ad-9995-68836237e0f3",
   "metadata": {},
   "outputs": [],
   "source": [
    "data_path_VGP = current_path + \"/data/VGP_NAM\"\n",
    "\n",
    "# this reads the names of all the files in the data path foldel we have\n",
    "files_names = get_files_in_directory(data_path_VGP)"
   ]
  },
  {
   "cell_type": "code",
   "execution_count": 12,
   "id": "3b96b8d0-dbd7-45cc-bac3-d0a86275b1f2",
   "metadata": {},
   "outputs": [
    {
     "data": {
      "text/plain": [
       "['/Users/facundosapienza/Dropbox/CEED/Young_CEED_2.0/data/VGP_NAM/NAM_poles_0_130.csv']"
      ]
     },
     "execution_count": 12,
     "metadata": {},
     "output_type": "execute_result"
    }
   ],
   "source": [
    "for fname in files_names:\n",
    "    \n",
    "    # do something..."
   ]
  },
  {
   "cell_type": "code",
   "execution_count": null,
   "id": "d4023777-f5a3-498e-9eb8-1652e996b31a",
   "metadata": {},
   "outputs": [],
   "source": []
  }
 ],
 "metadata": {
  "kernelspec": {
   "display_name": "Python 3",
   "language": "python",
   "name": "python3"
  },
  "language_info": {
   "codemirror_mode": {
    "name": "ipython",
    "version": 3
   },
   "file_extension": ".py",
   "mimetype": "text/x-python",
   "name": "python",
   "nbconvert_exporter": "python",
   "pygments_lexer": "ipython3",
   "version": "3.7.4"
  }
 },
 "nbformat": 4,
 "nbformat_minor": 5
}
